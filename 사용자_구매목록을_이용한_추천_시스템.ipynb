{
  "nbformat": 4,
  "nbformat_minor": 0,
  "metadata": {
    "colab": {
      "name": "사용자 구매목록을 이용한 추천 시스템.ipynb",
      "provenance": [],
      "collapsed_sections": []
    },
    "kernelspec": {
      "name": "python3",
      "display_name": "Python 3"
    },
    "language_info": {
      "name": "python"
    }
  },
  "cells": [
    {
      "cell_type": "markdown",
      "metadata": {
        "id": "-TYkD3-VF_-G"
      },
      "source": [
        "## 1. 추천 모델 생성"
      ]
    },
    {
      "cell_type": "code",
      "metadata": {
        "id": "yAnS-tcOhf6r"
      },
      "source": [
        "import gensim\n",
        "\n",
        "\n",
        "user_logs = {\n",
        "    \"유저 A\" : [\"해리포터 책\",\"과자\",\"라면\", \"노트북\"],\n",
        "    \"유저 B\" : [\"설탕\",\"해리포터 책\",\"과자\"],\n",
        "    \"유저 C\" : [\"칫솔\",\"마우스\",\"과자\"],\n",
        "    \"유저 D\" : [\"키보드\",\"해리포터 책\",\"과자\"]\n",
        "}\n",
        "\n",
        "data = list(user_logs.values())\n",
        "model = gensim.models.Word2Vec(data, min_count=1)\n",
        "model.save('word2vec_50.model')"
      ],
      "execution_count": null,
      "outputs": []
    },
    {
      "cell_type": "markdown",
      "metadata": {
        "id": "pAUqRw0bGIiE"
      },
      "source": [
        "## 2. 관련 상품 추천"
      ]
    },
    {
      "cell_type": "code",
      "metadata": {
        "colab": {
          "base_uri": "https://localhost:8080/"
        },
        "id": "wmlV0uzylcxB",
        "outputId": "c8c7d1c6-ba7c-42e1-a100-82864e81a7e1"
      },
      "source": [
        "model = gensim.models.Word2Vec.load('word2vec_50.model')\n",
        "\n",
        "print(model.wv.most_similar(\"과자\", topn=30))"
      ],
      "execution_count": null,
      "outputs": [
        {
          "output_type": "stream",
          "name": "stdout",
          "text": [
            "[('마우스', 0.2653977572917938), ('라면', 0.08490989357233047), ('해리포터 책', 0.06275350600481033), ('설탕', 0.0190784502774477), ('칫솔', 0.013047296553850174), ('노트북', -0.027134735137224197), ('키보드', -0.10316061228513718)]\n"
          ]
        }
      ]
    }
  ]
}